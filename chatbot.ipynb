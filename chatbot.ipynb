{
  "nbformat": 4,
  "nbformat_minor": 0,
  "metadata": {
    "colab": {
      "provenance": []
    },
    "kernelspec": {
      "name": "python3",
      "display_name": "Python 3"
    },
    "language_info": {
      "name": "python"
    }
  },
  "cells": [
    {
      "cell_type": "code",
      "source": [
        "import nltk\n",
        "import random\n",
        "import string\n",
        "import warnings\n",
        "warnings.filterwarnings('ignore')\n",
        "\n",
        "f = open('/content/chatbot_data.txt', 'r', errors='ignore')\n",
        "raw = f.read()\n",
        "raw = raw.lower()\n",
        "\n",
        "sent_tokens = nltk.sent_tokenize(raw)\n",
        "word_tokens = nltk.word_tokenize(raw)\n",
        "\n",
        "sentToken = sent_tokens[:4]\n",
        "wordToken = word_tokens[:4]\n",
        "\n",
        "\n",
        "lemmer = nltk.stem.WordNetLemmatizer()\n",
        "\n",
        "def LemTokens(tokens):\n",
        "    return [lemmer.lemmatize(token) for token in tokens]\n",
        "remove_punct_dict = dict((ord(punct), None) for punct in string.punctuation)\n",
        "\n",
        "def LemNormalize(text):\n",
        "    return LemTokens(nltk.word_tokenize(text.lower().translate(remove_punct_dict)))\n",
        "\n",
        "\n",
        "GREETING_INPUTS = (\"hello\", \"hi\", \"greetings\", \"sup\", \"what's up\", \"hey\")\n",
        "GREETING_RESPONSES = [\"hi\", \"hey\", \"nods\", \"hi there\", \"hello\", \"I am glad! you are talking to me\"]\n",
        "\n",
        "def greeting(scentence):\n",
        "\n",
        "    for word in scentence.split():\n",
        "        if word.lower() in GREETING_INPUTS:\n",
        "            return random.choice(GREETING_RESPONSES)\n",
        "\n",
        "\n",
        "from sklearn.feature_extraction.text import TfidfVectorizer\n",
        "from sklearn.metrics.pairwise import cosine_similarity\n",
        "\n",
        "def response(user_response):\n",
        "    chatbot_response = ''\n",
        "    sent_tokens.append(user_response)\n",
        "    TfidfVec = TfidfVectorizer(tokenizer=LemNormalize, stop_words=\"english\")\n",
        "    tfidf = TfidfVec.fit_transform(sent_tokens)\n",
        "    vals = cosine_similarity(tfidf[-1], tfidf)\n",
        "    idx = vals.argsort()[0][-2]\n",
        "    flat = vals.flatten()\n",
        "    flat.sort()\n",
        "    req_tfidf = flat[-2]\n",
        "    if(req_tfidf == 0):\n",
        "        chatbot_response = chatbot_response + \"I am sorry! I don't understand you\"\n",
        "        return chatbot_response\n",
        "\n",
        "    else:\n",
        "        chatbot_response=chatbot_response+sent_tokens[idx]\n",
        "        return chatbot_response\n",
        "\n",
        "\n",
        "if __name__ == \"__main__\":\n",
        "    flag = True\n",
        "    print(\"Hello, there my name is TerX. I will answer your queries. If you want to exit, type Bye!\")\n",
        "    while(flag==True):\n",
        "        user_response = input()\n",
        "        user_response = user_response.lower()\n",
        "        if(user_response!='bye'):\n",
        "            if user_response == 'thanks' or user_response == 'thank you':\n",
        "                flag = False\n",
        "                print(\"TerX: You're welcome!\")\n",
        "            else:\n",
        "                if(greeting(user_response)!=None):\n",
        "                    print(\"TerX:\" +greeting(user_response))\n",
        "                else:\n",
        "                    print(\"TerX:\", end='')\n",
        "                    print(response(user_response))\n",
        "                    sent_tokens.remove(user_response)\n",
        "        else:\n",
        "            flag = False\n",
        "            print(\"TerX: Bye! Take care....\" )"
      ],
      "metadata": {
        "colab": {
          "base_uri": "https://localhost:8080/"
        },
        "id": "cqDX18EUrIRS",
        "outputId": "81ab342c-5a56-4ed9-ce03-789e5535fa89"
      },
      "execution_count": 31,
      "outputs": [
        {
          "output_type": "stream",
          "name": "stdout",
          "text": [
            "Hello, there my name is TerX. I will answer your queries. If you want to exit, type Bye!\n",
            "hi\n",
            "TerX:hey\n",
            "what is data science\n",
            "TerX:data science is a multidisciplinary field that uses scientific methods, algorithms, processes, and systems to extract knowledge and insights from structured and unstructured data.\n",
            "what is decision tree\n",
            "TerX:a decision tree is a predictive model that uses a tree-like structure to make decisions by splitting the data into subsets based on the values of input features.\n",
            "what is feature engineering\n",
            "TerX:feature engineering involves selecting, transforming, or creating features from the raw data to improve the performance of machine learning models.\n",
            "bye\n",
            "TerX: Bye! Take care....\n"
          ]
        }
      ]
    }
  ]
}